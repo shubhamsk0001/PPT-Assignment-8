{
 "cells": [
  {
   "cell_type": "code",
   "execution_count": null,
   "id": "13cb607a",
   "metadata": {},
   "outputs": [],
   "source": [
    "**Question 1**\n",
    "Given two strings s1 and s2, return *the lowest **ASCII** sum of deleted characters to make two strings equal*.\n",
    "\n",
    "**Example 1:**\n",
    "\n",
    "**Input:** s1 = \"sea\", s2 = \"eat\"\n",
    "\n",
    "**Output:** 231\n",
    "\n",
    "**Explanation:** Deleting \"s\" from \"sea\" adds the ASCII value of \"s\" (115) to the sum.\n",
    "\n",
    "Deleting \"t\" from \"eat\" adds 116 to the sum.\n",
    "\n",
    "At the end, both strings are equal, and 115 + 116 = 231 is the minimum sum possible to achieve this.\n"
   ]
  },
  {
   "cell_type": "code",
   "execution_count": 1,
   "id": "e3cde497",
   "metadata": {},
   "outputs": [
    {
     "name": "stdout",
     "output_type": "stream",
     "text": [
      "231\n"
     ]
    }
   ],
   "source": [
    "def minimumDeleteSum(s1,s2):\n",
    "    def getValue(char):\n",
    "        return ord(char)\n",
    "    matrix = [[0 for i in range(len(s2)+1)] for j in range(len(s1)+1)]\n",
    "        \n",
    "    for i in range(len(s2)):\n",
    "        matrix[0][i+1] = matrix[0][i] + getValue(s2[i])\n",
    "    for i in range(len(s1)):\n",
    "        matrix[i+1][0] = matrix[i][0] + getValue(s1[i])\n",
    "\n",
    "    for i in range(1,len(matrix)):\n",
    "        for j in range(1,len(matrix[i])):\n",
    "            if s1[i-1] == s2[j-1]:\n",
    "                matrix[i][j] = matrix[i-1][j-1]\n",
    "            else:\n",
    "                matrix[i][j] = min(matrix[i][j-1] + getValue(s2[j-1]), matrix[i-1][j] + getValue(s1[i-1]))\n",
    "\n",
    "    return matrix[-1][-1]\n",
    "print(minimumDeleteSum(\"sea\",\"eat\"))    "
   ]
  },
  {
   "cell_type": "code",
   "execution_count": null,
   "id": "2f851eea",
   "metadata": {},
   "outputs": [],
   "source": [
    "**Question 2**\n",
    "Given a string s containing only three types of characters: '(', ')' and '*', return true *if* s *is **valid***.\n",
    "\n",
    "The following rules define a **valid** string:\n",
    "\n",
    "- Any left parenthesis '(' must have a corresponding right parenthesis ')'.\n",
    "- Any right parenthesis ')' must have a corresponding left parenthesis '('.\n",
    "- Left parenthesis '(' must go before the corresponding right parenthesis ')'.\n",
    "- '*' could be treated as a single right parenthesis ')' or a single left parenthesis '(' or an empty string \"\".\n",
    "\n",
    "**Example 1:**\n",
    "\n",
    "**Input:** s = \"()\"\n",
    "\n",
    "**Output:**\n",
    "\n",
    "true"
   ]
  },
  {
   "cell_type": "code",
   "execution_count": 2,
   "id": "c84430a0",
   "metadata": {},
   "outputs": [
    {
     "name": "stdout",
     "output_type": "stream",
     "text": [
      "True\n"
     ]
    }
   ],
   "source": [
    "def checkValidString(s):\n",
    "    open_stack = []\n",
    "    star_stack = []\n",
    "    for i in range(len(s)):\n",
    "        if s[i] == '(':\n",
    "            open_stack.append(i)\n",
    "        elif s[i] == \"*\":\n",
    "            star_stack.append(i)\n",
    "        else:\n",
    "            if len(open_stack) != 0:\n",
    "                open_stack.pop()\n",
    "            elif len(star_stack) != 0:\n",
    "                star_stack.pop()\n",
    "            else:\n",
    "                return False\n",
    "    while len(open_stack) != 0:\n",
    "        if len(star_stack) == 0:\n",
    "            return False\n",
    "        elif open_stack[-1] < star_stack[-1]:\n",
    "            open_stack.pop()\n",
    "            star_stack.pop()\n",
    "        else:\n",
    "            return False\n",
    "    return True\n",
    "print(checkValidString(\"()\"))\n",
    "    "
   ]
  },
  {
   "cell_type": "code",
   "execution_count": null,
   "id": "417321fe",
   "metadata": {},
   "outputs": [],
   "source": [
    "**Question 3**\n",
    "\n",
    "Given two strings word1 and word2, return *the minimum number of **steps** required to make* word1 *and* word2 *the same*.\n",
    "\n",
    "In one **step**, you can delete exactly one character in either string.\n",
    "\n",
    "**Example 1:**\n",
    "\n",
    "**Input:** word1 = \"sea\", word2 = \"eat\"\n",
    "\n",
    "**Output:** 2\n",
    "\n",
    "**Explanation:** You need one step to make \"sea\" to \"ea\" and another step to make \"eat\" to \"ea\"."
   ]
  },
  {
   "cell_type": "code",
   "execution_count": 3,
   "id": "1d485861",
   "metadata": {},
   "outputs": [
    {
     "name": "stdout",
     "output_type": "stream",
     "text": [
      "2\n"
     ]
    }
   ],
   "source": [
    "    def minDistance( word1,word2):\n",
    "        m, n = len(word1), len(word2)\n",
    "        dp = [[0] * (n + 1) for _ in range(m + 1)]\n",
    "        \n",
    "        # fill in the dynamic programming table\n",
    "        for i in range(1, m + 1):\n",
    "            for j in range(1, n + 1):\n",
    "                if word1[i - 1] == word2[j - 1]:\n",
    "                    dp[i][j] = dp[i - 1][j - 1] + 1\n",
    "                else:\n",
    "                    dp[i][j] = max(dp[i - 1][j], dp[i][j - 1])\n",
    "        \n",
    "        # return the minimum number of deletions required\n",
    "        return m + n - 2 * dp[m][n]\n",
    "    print(minDistance(\"sea\",\"eat\"))"
   ]
  },
  {
   "cell_type": "code",
   "execution_count": null,
   "id": "97e16353",
   "metadata": {},
   "outputs": [],
   "source": [
    "**Question 5**\n",
    "\n",
    "Given an array of characters chars, compress it using the following algorithm:\n",
    "\n",
    "Begin with an empty string s. For each group of **consecutive repeating characters** in chars:\n",
    "\n",
    "- If the group's length is 1, append the character to s.\n",
    "- Otherwise, append the character followed by the group's length.\n",
    "\n",
    "The compressed string s **should not be returned separately**, but instead, be stored **in the input character array \n",
    "chars**. Note that group lengths that are 10 or longer will be split into multiple characters in chars.\n",
    "\n",
    "After you are done **modifying the input array,** return *the new length of the array*.\n",
    "\n",
    "You must write an algorithm that uses only constant extra space.\n",
    "\n",
    "**Example 1:**\n",
    "\n",
    "**Input:** chars = [\"a\",\"a\",\"b\",\"b\",\"c\",\"c\",\"c\"]\n",
    "\n",
    "**Output:** Return 6, and the first 6 characters of the input array should be: [\"a\",\"2\",\"b\",\"2\",\"c\",\"3\"]\n",
    "\n",
    "**Explanation:**\n",
    "\n",
    "The groups are \"aa\", \"bb\", and \"ccc\". This compresses to \"a2b2c3\"."
   ]
  },
  {
   "cell_type": "code",
   "execution_count": 11,
   "id": "2bf34c69",
   "metadata": {},
   "outputs": [
    {
     "name": "stdout",
     "output_type": "stream",
     "text": [
      "6\n"
     ]
    }
   ],
   "source": [
    "    def compress( chars):\n",
    "        i=0\n",
    "        count=1\n",
    "        while i<len(chars)-1:\n",
    "            if chars[i+1]==chars[i]:\n",
    "                chars.pop(i+1)\n",
    "                count+=1\n",
    "            elif count>1:\n",
    "                cc=[*str(count)]\n",
    "                for j in range(len(cc)):\n",
    "                    chars.insert(i+j+1,cc[j])\n",
    "                count=1\n",
    "                i+=len(cc)+1\n",
    "            else:\n",
    "                i+=1\n",
    "        if count>1:\n",
    "            chars+=[*str(count)]\n",
    "        return len(chars)\n",
    "    print(compress([\"a\",\"a\",\"b\",\"b\",\"c\",\"c\",\"c\"]))"
   ]
  },
  {
   "cell_type": "code",
   "execution_count": null,
   "id": "9b87edc1",
   "metadata": {},
   "outputs": [],
   "source": [
    "**Question 6**\n",
    "\n",
    "Given two strings s and p, return *an array of all the start indices of* p*'s anagrams in* s. You may return the answer in \n",
    "any order**.\n",
    "\n",
    "An **Anagram** is a word or phrase formed by rearranging the letters of a different word or phrase, typically using all \n",
    "the original letters exactly once.\n",
    "\n",
    "**Example 1:**\n",
    "\n",
    "**Input:** s = \"cbaebabacd\", p = \"abc\"\n",
    "\n",
    "**Output:** [0,6]\n",
    "\n",
    "**Explanation:**\n",
    "\n",
    "The substring with start index = 0 is \"cba\", which is an anagram of \"abc\".\n",
    "\n",
    "The substring with start index = 6 is \"bac\", which is an anagram of \"abc\".\n"
   ]
  },
  {
   "cell_type": "code",
   "execution_count": 14,
   "id": "e56373d4",
   "metadata": {},
   "outputs": [
    {
     "name": "stdout",
     "output_type": "stream",
     "text": [
      "[0, 6]\n"
     ]
    }
   ],
   "source": [
    "    from collections import Counter\n",
    "    def findAnagrams(s, p):\n",
    "        ans = []\n",
    "        count = Counter(p)\n",
    "        required = len(p)\n",
    "\n",
    "        for r, c in enumerate(s):\n",
    "            count[c] -= 1\n",
    "            if count[c] >= 0:\n",
    "                required -= 1\n",
    "            if r >= len(p):\n",
    "                left_char = s[r - len(p)]\n",
    "                count[left_char] += 1\n",
    "                if count[left_char] > 0:\n",
    "                    required += 1\n",
    "            if required == 0:\n",
    "                ans.append(r - len(p) + 1)\n",
    "\n",
    "        return ans\n",
    "    print(findAnagrams(\"cbaebabacd\",\"abc\"))"
   ]
  },
  {
   "cell_type": "code",
   "execution_count": null,
   "id": "a20489da",
   "metadata": {},
   "outputs": [],
   "source": [
    "**Question 7**\n",
    "\n",
    "Given an encoded string, return its decoded string.\n",
    "\n",
    "The encoding rule is: k[encoded_string], where the encoded_string inside the square brackets is being repeated exactly k \n",
    "times. Note that k is guaranteed to be a positive integer.\n",
    "\n",
    "You may assume that the input string is always valid; there are no extra white spaces, square brackets are well-formed, \n",
    "etc. Furthermore, you may assume that the original data does not contain any digits and that digits are only for those \n",
    "repeat numbers, k. For example, there will not be input like 3a or 2[4].\n",
    "\n",
    "The test cases are generated so that the length of the output will never exceed 105.\n",
    "\n",
    "**Example 1:**\n",
    "\n",
    "**Input:** s = \"3[a]2[bc]\"\n",
    "\n",
    "**Output:** \"aaabcbc\""
   ]
  },
  {
   "cell_type": "code",
   "execution_count": 15,
   "id": "bfde6f68",
   "metadata": {},
   "outputs": [
    {
     "name": "stdout",
     "output_type": "stream",
     "text": [
      "aaabcbc\n"
     ]
    }
   ],
   "source": [
    "def decodeString(s):\n",
    "    st = []\n",
    "    num = 0\n",
    "    res = ''\n",
    "\n",
    "    for ch in s:\n",
    "        if ch.isnumeric():\n",
    "            num = num * 10 + int(ch)\n",
    "        elif ch == '[':\n",
    "            st.append(res)\n",
    "            st.append(num)\n",
    "            res = ''\n",
    "            num = 0\n",
    "        elif ch == ']':\n",
    "            cnt = st.pop()\n",
    "            prev = st.pop()\n",
    "            res = prev + cnt * res\n",
    "        else:\n",
    "            res += ch\n",
    "    return res\n",
    "print(decodeString(\"3[a]2[bc]\"))\n",
    "    "
   ]
  },
  {
   "cell_type": "code",
   "execution_count": null,
   "id": "256079ac",
   "metadata": {},
   "outputs": [],
   "source": [
    " **Question 8**\n",
    "\n",
    "Given two strings s and goal, return true *if you can swap two letters in* s *so the result is equal to* goal*, otherwise, \n",
    "return* false*.*\n",
    "\n",
    "Swapping letters is defined as taking two indices i and j (0-indexed) such that i != j and swapping the characters at \n",
    "s[i] and s[j].\n",
    "\n",
    "- For example, swapping at indices 0 and 2 in \"abcd\" results in \"cbad\".\n",
    "\n",
    "**Example 1:**\n",
    "\n",
    "**Input:** s = \"ab\", goal = \"ba\"\n",
    "\n",
    "**Output:** true\n",
    "\n",
    "**Explanation:** You can swap s[0] = 'a' and s[1] = 'b' to get \"ba\", which is equal to goal."
   ]
  },
  {
   "cell_type": "code",
   "execution_count": 16,
   "id": "ade5994f",
   "metadata": {},
   "outputs": [
    {
     "name": "stdout",
     "output_type": "stream",
     "text": [
      "True\n"
     ]
    }
   ],
   "source": [
    "    def buddyStrings(s, goal):\n",
    "        \n",
    "        if len(s) != len(goal):\n",
    "            return False\n",
    "        if s == goal:\n",
    "            return len(set(s)) < len(s)\n",
    "        diffs = []\n",
    "        for i in range(len(s)):\n",
    "            if s[i] != goal[i]:\n",
    "                diffs.append((s[i], goal[i]))\n",
    "        return len(diffs) == 2 and diffs[0] == diffs[1][::-1]\n",
    "    print(buddyStrings(\"ab\",\"ba\"))"
   ]
  }
 ],
 "metadata": {
  "kernelspec": {
   "display_name": "Python 3 (ipykernel)",
   "language": "python",
   "name": "python3"
  },
  "language_info": {
   "codemirror_mode": {
    "name": "ipython",
    "version": 3
   },
   "file_extension": ".py",
   "mimetype": "text/x-python",
   "name": "python",
   "nbconvert_exporter": "python",
   "pygments_lexer": "ipython3",
   "version": "3.9.12"
  }
 },
 "nbformat": 4,
 "nbformat_minor": 5
}
